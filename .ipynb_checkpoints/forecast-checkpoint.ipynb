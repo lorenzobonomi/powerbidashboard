{
 "cells": [
  {
   "cell_type": "code",
   "execution_count": 18,
   "id": "78dcae7c-5b6b-44cf-86af-a2d68cbbd10b",
   "metadata": {},
   "outputs": [
    {
     "name": "stderr",
     "output_type": "stream",
     "text": [
      "C:\\Users\\loren\\AppData\\Local\\Programs\\Python\\Python312\\Lib\\site-packages\\tqdm\\auto.py:21: TqdmWarning: IProgress not found. Please update jupyter and ipywidgets. See https://ipywidgets.readthedocs.io/en/stable/user_install.html\n",
      "  from .autonotebook import tqdm as notebook_tqdm\n",
      "Importing plotly failed. Interactive plots will not work.\n"
     ]
    },
    {
     "name": "stdout",
     "output_type": "stream",
     "text": [
      "The sql extension is already loaded. To reload it, use:\n",
      "  %reload_ext sql\n"
     ]
    }
   ],
   "source": [
    "import duckdb\n",
    "import pandas as pd\n",
    "from sqlalchemy import create_engine\n",
    "from prophet import Prophet\n",
    "\n",
    "%load_ext sql"
   ]
  },
  {
   "cell_type": "code",
   "execution_count": 2,
   "id": "357b8a31-abbf-4c83-80b2-ac7eb8f00825",
   "metadata": {},
   "outputs": [],
   "source": [
    "%config SqlMagic.autopandas = True\n",
    "%config SqlMagic.feedback = False\n",
    "%config SqlMagic.displaycon = False"
   ]
  },
  {
   "cell_type": "code",
   "execution_count": 2,
   "id": "e8be0382-861a-4ab2-baa4-bd5ac60543bd",
   "metadata": {},
   "outputs": [
    {
     "data": {
      "text/html": [
       "<span style=\"None\">Connecting to &#x27;duckdb:///powerbi.db&#x27;</span>"
      ],
      "text/plain": [
       "Connecting to 'duckdb:///powerbi.db'"
      ]
     },
     "metadata": {},
     "output_type": "display_data"
    }
   ],
   "source": [
    "%sql duckdb:///powerbi.db"
   ]
  },
  {
   "cell_type": "code",
   "execution_count": 4,
   "id": "84d7f6d7-c8f8-463b-9f71-e9adb30b73e7",
   "metadata": {},
   "outputs": [
    {
     "data": {
      "text/html": [
       "<div>\n",
       "<style scoped>\n",
       "    .dataframe tbody tr th:only-of-type {\n",
       "        vertical-align: middle;\n",
       "    }\n",
       "\n",
       "    .dataframe tbody tr th {\n",
       "        vertical-align: top;\n",
       "    }\n",
       "\n",
       "    .dataframe thead th {\n",
       "        text-align: right;\n",
       "    }\n",
       "</style>\n",
       "<table border=\"1\" class=\"dataframe\">\n",
       "  <thead>\n",
       "    <tr style=\"text-align: right;\">\n",
       "      <th></th>\n",
       "      <th>quarter</th>\n",
       "      <th>valueQuantity</th>\n",
       "      <th>valueRevenue</th>\n",
       "      <th>valueUnitPrice</th>\n",
       "    </tr>\n",
       "  </thead>\n",
       "  <tbody>\n",
       "    <tr>\n",
       "      <th>0</th>\n",
       "      <td>Q4 2022</td>\n",
       "      <td>320000</td>\n",
       "      <td>1000000</td>\n",
       "      <td>3.7</td>\n",
       "    </tr>\n",
       "    <tr>\n",
       "      <th>1</th>\n",
       "      <td>Q1 2023</td>\n",
       "      <td>1080000</td>\n",
       "      <td>2000000</td>\n",
       "      <td>3.6</td>\n",
       "    </tr>\n",
       "    <tr>\n",
       "      <th>2</th>\n",
       "      <td>Q2 2023</td>\n",
       "      <td>1200000</td>\n",
       "      <td>3000000</td>\n",
       "      <td>4.1</td>\n",
       "    </tr>\n",
       "    <tr>\n",
       "      <th>3</th>\n",
       "      <td>Q3 2023</td>\n",
       "      <td>1300000</td>\n",
       "      <td>1500000</td>\n",
       "      <td>3.8</td>\n",
       "    </tr>\n",
       "    <tr>\n",
       "      <th>4</th>\n",
       "      <td>Q4 2023</td>\n",
       "      <td>1600000</td>\n",
       "      <td>2500000</td>\n",
       "      <td>3.9</td>\n",
       "    </tr>\n",
       "  </tbody>\n",
       "</table>\n",
       "</div>"
      ],
      "text/plain": [
       "   quarter  valueQuantity  valueRevenue  valueUnitPrice\n",
       "0  Q4 2022         320000       1000000             3.7\n",
       "1  Q1 2023        1080000       2000000             3.6\n",
       "2  Q2 2023        1200000       3000000             4.1\n",
       "3  Q3 2023        1300000       1500000             3.8\n",
       "4  Q4 2023        1600000       2500000             3.9"
      ]
     },
     "execution_count": 4,
     "metadata": {},
     "output_type": "execute_result"
    }
   ],
   "source": [
    "%%sql SELECT * FROM main.forecast;"
   ]
  },
  {
   "cell_type": "code",
   "execution_count": 12,
   "id": "bec21035-a2de-450f-b626-1dc948a08cbe",
   "metadata": {},
   "outputs": [
    {
     "data": {
      "text/html": [
       "<span style=\"None\">Running query in &#x27;duckdb:///powerbi.db&#x27;</span>"
      ],
      "text/plain": [
       "Running query in 'duckdb:///powerbi.db'"
      ]
     },
     "metadata": {},
     "output_type": "display_data"
    }
   ],
   "source": [
    "%sql df << SELECT DateSelected AS ds, SUM(Quantity) AS y FROM main.salesData LEFT JOIN main.calendar ON main.salesData.InvoiceDate = main.calendar.DateSelectedForJoin GROUP BY calendar.DateSelected;"
   ]
  },
  {
   "cell_type": "code",
   "execution_count": 17,
   "id": "cac7e05f-9b15-48fa-8c64-a3d0e22e473d",
   "metadata": {},
   "outputs": [
    {
     "data": {
      "text/html": [
       "<table>\n",
       "    <thead>\n",
       "        <tr>\n",
       "            <th>ds</th>\n",
       "            <th>y</th>\n",
       "        </tr>\n",
       "    </thead>\n",
       "    <tbody>\n",
       "        <tr>\n",
       "            <td>2023-10-02</td>\n",
       "            <td>8380</td>\n",
       "        </tr>\n",
       "        <tr>\n",
       "            <td>2023-10-04</td>\n",
       "            <td>18689</td>\n",
       "        </tr>\n",
       "        <tr>\n",
       "            <td>2023-10-16</td>\n",
       "            <td>8311</td>\n",
       "        </tr>\n",
       "        <tr>\n",
       "            <td>2023-10-23</td>\n",
       "            <td>7068</td>\n",
       "        </tr>\n",
       "        <tr>\n",
       "            <td>2023-11-20</td>\n",
       "            <td>19369</td>\n",
       "        </tr>\n",
       "        <tr>\n",
       "            <td>2023-07-11</td>\n",
       "            <td>14989</td>\n",
       "        </tr>\n",
       "        <tr>\n",
       "            <td>2023-08-10</td>\n",
       "            <td>14228</td>\n",
       "        </tr>\n",
       "        <tr>\n",
       "            <td>2023-08-15</td>\n",
       "            <td>10141</td>\n",
       "        </tr>\n",
       "        <tr>\n",
       "            <td>2023-08-18</td>\n",
       "            <td>33122</td>\n",
       "        </tr>\n",
       "        <tr>\n",
       "            <td>2023-08-31</td>\n",
       "            <td>6976</td>\n",
       "        </tr>\n",
       "    </tbody>\n",
       "</table>\n",
       "<span style=\"font-style:italic;text-align:center;\">Truncated to <a href=\"https://jupysql.ploomber.io/en/latest/api/configuration.html#displaylimit\">displaylimit</a> of 10.</span>"
      ],
      "text/plain": [
       "+------------+-------+\n",
       "|     ds     |   y   |\n",
       "+------------+-------+\n",
       "| 2023-10-02 |  8380 |\n",
       "| 2023-10-04 | 18689 |\n",
       "| 2023-10-16 |  8311 |\n",
       "| 2023-10-23 |  7068 |\n",
       "| 2023-11-20 | 19369 |\n",
       "| 2023-07-11 | 14989 |\n",
       "| 2023-08-10 | 14228 |\n",
       "| 2023-08-15 | 10141 |\n",
       "| 2023-08-18 | 33122 |\n",
       "| 2023-08-31 |  6976 |\n",
       "+------------+-------+\n",
       "Truncated to displaylimit of 10."
      ]
     },
     "metadata": {},
     "output_type": "display_data"
    }
   ],
   "source": [
    "display(df)"
   ]
  },
  {
   "cell_type": "code",
   "execution_count": 9,
   "id": "bec6d282-0473-4ffd-ab38-92cd9d130b26",
   "metadata": {},
   "outputs": [
    {
     "data": {
      "text/plain": [
       "-1"
      ]
     },
     "execution_count": 9,
     "metadata": {},
     "output_type": "execute_result"
    }
   ],
   "source": [
    "engine = create_engine('duckdb:///powerbi.db')\n",
    "df.to_sql('quantityPrediction', con = engine, if_exists = 'replace', index = False)"
   ]
  }
 ],
 "metadata": {
  "kernelspec": {
   "display_name": "Python 3",
   "language": "python",
   "name": "python3"
  },
  "language_info": {
   "codemirror_mode": {
    "name": "ipython",
    "version": 3
   },
   "file_extension": ".py",
   "mimetype": "text/x-python",
   "name": "python",
   "nbconvert_exporter": "python",
   "pygments_lexer": "ipython3",
   "version": "3.12.3"
  }
 },
 "nbformat": 4,
 "nbformat_minor": 5
}
